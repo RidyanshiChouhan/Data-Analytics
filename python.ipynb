{
  "nbformat": 4,
  "nbformat_minor": 0,
  "metadata": {
    "colab": {
      "provenance": []
    },
    "kernelspec": {
      "name": "python3",
      "display_name": "Python 3"
    },
    "language_info": {
      "name": "python"
    }
  },
  "cells": [
    {
      "cell_type": "markdown",
      "source": [],
      "metadata": {
        "id": "h8SDJ1BYZG9M"
      }
    },
    {
      "cell_type": "markdown",
      "source": [
        "1.What is Python, and why is it popular?\n",
        "  - Python is a **high-level, interpreted, general-purpose** programming language created by **Guido van Rossum** and first released in **1991**. It’s known for its simple syntax, dynamic typing, and cross-platform compatibility.\n",
        "\n",
        "  - **Popular For**\n",
        "\n",
        "1.  **Easy to Learn**: Clean and readable code.\n",
        "2.  **Versatile**: Used in web development, data science, AI, automation, etc.\n",
        "3.  **Large Community**: Lots of support, libraries, and frameworks.\n",
        "4.  **Open Source**: Free and constantly improved.\n",
        "5.  **Efficient Integration**: Works with other languages and tools.\n"
      ],
      "metadata": {
        "id": "mTwJ9rfCjmGA"
      }
    },
    {
      "cell_type": "markdown",
      "source": [
        "2.What is an interpreter in Python?\n",
        "  - An interpreter in Python is a program that **reads and executes code line by line** rather than compiling it all at once like other languages (e.g. C or Java).\n",
        "\n",
        "  - **Key Points:**\n",
        "\n",
        "1.   It **translates Python code into machine instructions** at runtime.\n",
        "2.   Errors are caught as the code is executed.\n",
        "3.   Allows quick testing and debugging.\n",
        "4.   Makes Python **portable** and easy to use across platforms."
      ],
      "metadata": {
        "id": "FKUJtiCalpnO"
      }
    },
    {
      "cell_type": "markdown",
      "source": [
        "3.What are pre-defined keywords in Python?\n",
        "  - Pre-defined keywords in Python are reserved words that have a special meaning and function in the language. They are part of the syntax and cannot be used as identifiers such as variable names or function names. These keywords define the structure and flow of Python programs and include words like `if`, `else`, `while`, `for`, `break`, `continue`, `class`, `def`, `import`, `return`, and others. Using a keyword incorrectly will result in a syntax error. Python provides a fixed set of keywords that programmers use to write logical, readable, and structured code. You can view all Python keywords using the `keyword` module.\n"
      ],
      "metadata": {
        "id": "rq-IUCYEnb2S"
      }
    },
    {
      "cell_type": "markdown",
      "source": [
        "4.Can keywords be used as variable names?\n",
        "  - No, keywords cannot be used as variable names in Python. They are reserved for specific functions and meanings within the language. Using a keyword as a variable name will result in a syntax error because the interpreter recognizes them as part of Python’s structure, not as user-defined identifiers. For example, writing `if = 5` will cause an error because `if` is a keyword used for conditional statements.\n"
      ],
      "metadata": {
        "id": "HEtOFISqnzWK"
      }
    },
    {
      "cell_type": "markdown",
      "source": [
        "5.What is mutability in Python?\n",
        "  - Mutability in Python refers to whether an object’s value can be changed after it is created. If an object is mutable, you can modify its contents without creating a new object. **Lists, dictionaries,** and **sets** are examples of **mutable objects**. If an object is immutable, its value cannot be changed once it is created. **Integers, floats, strings,** and **tuples** are examples of **immutable** objects. Understanding mutability is important because it affects how objects behave when passed as arguments to functions and how they are stored in memory.\n"
      ],
      "metadata": {
        "id": "T3cT_R9_oSiW"
      }
    },
    {
      "cell_type": "markdown",
      "source": [
        "6.Why are lists mutable, but tuples are immutable?\n",
        "  - Lists are mutable because their contents can be changed after creation — you can add, remove, or modify elements. Tuples are immutable because they are designed to be fixed collections — once created, their values cannot be altered. This immutability makes tuples more efficient and safer for data that shouldn’t change."
      ],
      "metadata": {
        "id": "a5aL9IeJo9Pc"
      }
    },
    {
      "cell_type": "markdown",
      "source": [
        "7.What is the difference between “==” and “is” operators in Python?\n",
        "  - == checks if two objects have the same value, while is checks if two objects refer to the same memory location (i.e., they are the exact same object)."
      ],
      "metadata": {
        "id": "yyRAgCn7pgYG"
      }
    },
    {
      "cell_type": "markdown",
      "source": [
        "8.What are logical operators in Python?\n",
        "  - Logical operators are used to combine conditional statements and return True or False. The three main logical operators are:\n",
        "\n",
        "1. **and**: True if both conditions are true.\n",
        "\n",
        "2. **or**: True if at least one condition is true.\n",
        "\n",
        "3. **not**: Reverses the result of a condition."
      ],
      "metadata": {
        "id": "CKG5R9rQpoBU"
      }
    },
    {
      "cell_type": "markdown",
      "source": [
        "9.What is type casting in Python?\n",
        "  - Type casting is the process of converting one data type into another, such as converting an integer to a float or a string to an integer, to ensure compatibility or to perform certain operations."
      ],
      "metadata": {
        "id": "wJq6geSqqCl5"
      }
    },
    {
      "cell_type": "markdown",
      "source": [
        "10.What is the difference between implicit and explicit type casting?\n",
        "   - Implicit type casting happens automatically by Python when mixing data types, like adding an integer and a float.\n",
        "\n",
        "  - Explicit type casting is when the programmer intentionally converts one data type to another using functions like int(), float(), or str()."
      ],
      "metadata": {
        "id": "2I6J2_zKqI5o"
      }
    },
    {
      "cell_type": "markdown",
      "source": [
        "11.What is the purpose of conditional statements in Python?\n",
        "  - Conditional statements allow a program to make decisions and execute certain blocks of code based on whether a condition is True or False, enabling different outcomes based on different inputs or situations."
      ],
      "metadata": {
        "id": "bXkPw2eZqTJI"
      }
    },
    {
      "cell_type": "markdown",
      "source": [
        "12.How does the elif statement work?\n",
        "  - The `elif` statement stands for “else if” and is used after an `if` statement to check multiple conditions in sequence. It is only evaluated if the previous conditions are False."
      ],
      "metadata": {
        "id": "uMO8QrXXqbmK"
      }
    },
    {
      "cell_type": "markdown",
      "source": [
        "13.What is the difference between for and while loops?\n",
        "  - A for loop is used when the number of iterations is known or can be determined in advance, while a while loop is used when the loop should continue until a condition changes, and the number of iterations is not known beforehand."
      ],
      "metadata": {
        "id": "1sZeUJYsquz8"
      }
    },
    {
      "cell_type": "markdown",
      "source": [
        "14.Describe a scenario where a while loop is more suitable than a for loop.\n",
        "  - A while loop is more suitable when you need to repeat an action until an unpredictable condition is met. For example, waiting for user input until they enter a valid response or continuously checking a sensor’s reading until it reaches a threshold."
      ],
      "metadata": {
        "id": "ZyDavWerq30S"
      }
    },
    {
      "cell_type": "code",
      "source": [
        "#Practicals\n",
        "# 1. Write a Python program to print \"Hello, World!\".\n",
        "print(\"Hello,World!\")"
      ],
      "metadata": {
        "colab": {
          "base_uri": "https://localhost:8080/"
        },
        "id": "ZOnunxvwwV3j",
        "outputId": "fb24d354-7012-42ad-caea-208ee55b3373"
      },
      "execution_count": 1,
      "outputs": [
        {
          "output_type": "stream",
          "name": "stdout",
          "text": [
            "Hello,World!\n"
          ]
        }
      ]
    },
    {
      "cell_type": "code",
      "source": [
        "# 2. Write a Python program that displays your name and age.\n",
        "name = input(\"Enter your name\")\n",
        "age = input(\"Enter your age\")\n",
        "print(f\"Name is {name} and age is {age}\")"
      ],
      "metadata": {
        "colab": {
          "base_uri": "https://localhost:8080/"
        },
        "id": "JoCbEpqTwvzp",
        "outputId": "012706e4-c524-4e90-dfd2-1b45139331e1"
      },
      "execution_count": 2,
      "outputs": [
        {
          "output_type": "stream",
          "name": "stdout",
          "text": [
            "Enter your nameram\n",
            "Enter your age21\n",
            "Name is ram and age is 21\n"
          ]
        }
      ]
    },
    {
      "cell_type": "code",
      "source": [
        "# 3. Write code to print all the pre-defined keywords in Python using the keyword library.\n",
        "import keyword\n",
        "print(\"Keyword in Python:\")\n",
        "print(keyword.kwlist)"
      ],
      "metadata": {
        "colab": {
          "base_uri": "https://localhost:8080/"
        },
        "id": "5K3DXe_yxuu8",
        "outputId": "8db2e77c-963c-43f9-90e0-06004943d0cf"
      },
      "execution_count": 4,
      "outputs": [
        {
          "output_type": "stream",
          "name": "stdout",
          "text": [
            "Keyword in Python:\n",
            "['False', 'None', 'True', 'and', 'as', 'assert', 'async', 'await', 'break', 'class', 'continue', 'def', 'del', 'elif', 'else', 'except', 'finally', 'for', 'from', 'global', 'if', 'import', 'in', 'is', 'lambda', 'nonlocal', 'not', 'or', 'pass', 'raise', 'return', 'try', 'while', 'with', 'yield']\n"
          ]
        }
      ]
    },
    {
      "cell_type": "code",
      "source": [
        "# 4. Write a program that checks if a given word is a Python keyword.\n",
        "import keyword\n",
        "word = input(\"Enter a word to check if it's a Python keyword: \")\n",
        "if keyword.iskeyword(word):\n",
        "    print(f\"'{word}' is a Python keyword.\")\n",
        "else:\n",
        "    print(f\"'{word}' is not a Python keyword.\")\n"
      ],
      "metadata": {
        "colab": {
          "base_uri": "https://localhost:8080/"
        },
        "id": "wTrz2rjUzLya",
        "outputId": "e0b6e477-8a7f-4116-90af-0c42686bc885"
      },
      "execution_count": 6,
      "outputs": [
        {
          "output_type": "stream",
          "name": "stdout",
          "text": [
            "Enter a word to check if it's a Python keyword: if\n",
            "'if' is a Python keyword.\n"
          ]
        }
      ]
    },
    {
      "cell_type": "code",
      "source": [
        "# 5. Create a list and tuple in Python, and demonstrate how attempting to change an element works differently for each.\n",
        "l = [1,2,3,4]\n",
        "tup = (1,2,3,4)\n",
        "\n",
        "print(f\"Original list: {l}\")\n",
        "l[0]= 5\n",
        "print(f\"Change list: {l}\")\n",
        "\n",
        "print(f\"Original Tuple: {tup}\")\n",
        "try:\n",
        "  tup[0]=50\n",
        "except TypeError as e:\n",
        "  print(f\"Error: {e}\")"
      ],
      "metadata": {
        "colab": {
          "base_uri": "https://localhost:8080/"
        },
        "id": "D2us1O0j0svj",
        "outputId": "cca09e95-4d44-4293-f79e-3753b599e108"
      },
      "execution_count": 11,
      "outputs": [
        {
          "output_type": "stream",
          "name": "stdout",
          "text": [
            "Original list: [1, 2, 3, 4]\n",
            "Change list: [5, 2, 3, 4]\n",
            "Original Tuple: (1, 2, 3, 4)\n",
            "Error: 'tuple' object does not support item assignment\n"
          ]
        }
      ]
    },
    {
      "cell_type": "code",
      "source": [
        "# 6. Write a function to demonstrate the behavior of mutable and immutable arguments.\n",
        "def modify_arg(mutable_arg, immutable_arg):\n",
        "\n",
        "  mutable_arg.append(100)\n",
        "  immutable_arg += 100\n",
        "  print(\"Inside Fuction\")\n",
        "  print(f\"Mutable Argument: {mutable_arg}\")\n",
        "  print(f\"Immutable Argument: {immutable_arg}\")\n",
        "\n",
        "my_list=[1,2,3,4]\n",
        "my_num= 10\n",
        "\n",
        "print(\"Before Call\")\n",
        "print(f\"Mutable Argument: {my_list}\")\n",
        "print(f\"Immutable Argument: {my_num}\")\n",
        "\n",
        "modify_arg(my_list, my_num)\n",
        "\n",
        "print(\"After Call\")\n",
        "print(f\"Mutable Argument: {my_list}\")\n",
        "print(f\"Immutable Argument: {my_num}\")\n",
        "\n",
        ""
      ],
      "metadata": {
        "colab": {
          "base_uri": "https://localhost:8080/"
        },
        "id": "fvn9v6fW5gSR",
        "outputId": "ddfa3364-6658-4295-87ac-3950a0ad9b0b"
      },
      "execution_count": 14,
      "outputs": [
        {
          "output_type": "stream",
          "name": "stdout",
          "text": [
            "Before Call\n",
            "Mutable Argument: [1, 2, 3, 4]\n",
            "Immutable Argument: 10\n",
            "Inside Fuction\n",
            "Mutable Argument: [1, 2, 3, 4, 100]\n",
            "Immutable Argument: 110\n",
            "After Call\n",
            "Mutable Argument: [1, 2, 3, 4, 100]\n",
            "Immutable Argument: 10\n"
          ]
        }
      ]
    },
    {
      "cell_type": "code",
      "source": [
        "# 7.  Write a program that performs basic arithmetic operations on two user-input numbers.\n",
        "\n",
        "a = float(input(\"Enter the first number: \"))\n",
        "b = float(input(\"Enter the second number: \"))\n",
        "\n",
        "if b != 0:\n",
        "    division = a / b\n",
        "else:\n",
        "    division = \"Undefined (division by zero)\"\n",
        "\n",
        "print(f\"\\nResults:\")\n",
        "print(f\"Addition: {a} + {b} = {a+b}\")\n",
        "print(f\"Subtraction: {a} - {b} = {a-b}\")\n",
        "print(f\"Multiplication: {a} * {b} = {a*b}\")\n",
        "print(f\"Division: {a} / {b} = {a/b}\")\n",
        "print(f\"Floor Division: {a} // {b} = {a//b}\")\n",
        "print(f\"Modulus (remainder): {a} % {b} = {a%b}\")\n",
        "print(f\"Exponentiation (power): {a} ** {b} = {a**b}\")\n"
      ],
      "metadata": {
        "colab": {
          "base_uri": "https://localhost:8080/"
        },
        "id": "L4yyfXn6-gUN",
        "outputId": "88ada9ac-662a-4c68-d5ff-f3678670f41e"
      },
      "execution_count": 19,
      "outputs": [
        {
          "output_type": "stream",
          "name": "stdout",
          "text": [
            "Enter the first number: 5\n",
            "Enter the second number: 2\n",
            "\n",
            "Results:\n",
            "Addition: 5.0 + 2.0 = 7.0\n",
            "Subtraction: 5.0 - 2.0 = 3.0\n",
            "Multiplication: 5.0 * 2.0 = 10.0\n",
            "Division: 5.0 / 2.0 = 2.5\n",
            "Floor Division: 5.0 // 2.0 = 2.0\n",
            "Modulus (remainder): 5.0 % 2.0 = 1.0\n",
            "Exponentiation (power): 5.0 ** 2.0 = 25.0\n"
          ]
        }
      ]
    },
    {
      "cell_type": "code",
      "source": [
        "# 8. Write a program to demonstrate the use of logical operators\n",
        "\n",
        "a = int(input(\"Enter the first number: \"))\n",
        "b = int(input(\"Enter the second number: \"))\n",
        "\n",
        "if a > 0 and b > 0:\n",
        "    print(\"Both numbers are positive.\")\n",
        "\n",
        "if a % 2 == 0 or b % 2 == 0:\n",
        "    print(\"At least one number is even.\")\n",
        "\n",
        "if not (a > b):\n",
        "    print(\"The first number is not greater than the second.\")\n"
      ],
      "metadata": {
        "colab": {
          "base_uri": "https://localhost:8080/"
        },
        "id": "ELkyQQdvBqVw",
        "outputId": "62986359-da60-4dc7-cdc0-0e88177b95a9"
      },
      "execution_count": 20,
      "outputs": [
        {
          "output_type": "stream",
          "name": "stdout",
          "text": [
            "Enter the first number: 5\n",
            "Enter the second number: -6\n",
            "At least one number is even.\n"
          ]
        }
      ]
    },
    {
      "cell_type": "code",
      "source": [
        "# 9.  Write a Python program to convert user input from string to integer, float, and boolean types.\n",
        "a =input(\"Enter number: \")\n",
        "print(f\"Current DataType ={a} and type {type(a)}\")\n",
        "a = int(a)\n",
        "print(f\"Convert to Integer ={a} and type {type(a)}\")\n",
        "a = float(a)\n",
        "print(f\"Convert to Float ={a} and type {type(a)}\")\n",
        "a =bool(a)\n",
        "print(f\"Convert to Boolean ={a} and type {type(a)}\")"
      ],
      "metadata": {
        "colab": {
          "base_uri": "https://localhost:8080/"
        },
        "id": "VB_TxUUECVqS",
        "outputId": "f4d1f963-b339-443e-c209-8d8fdf5913ca"
      },
      "execution_count": 25,
      "outputs": [
        {
          "output_type": "stream",
          "name": "stdout",
          "text": [
            "Enter number: 5\n",
            "Current DataType =5 and type <class 'str'>\n",
            "Convert to Integer =5 and type <class 'int'>\n",
            "Convert to Float =5.0 and type <class 'float'>\n",
            "Convert to Boolean =True and type <class 'bool'>\n"
          ]
        }
      ]
    },
    {
      "cell_type": "code",
      "source": [
        "# 10. Write code to demonstrate type casting with list elements.\n",
        "\n",
        "str_list = [\"1\", \"2\", \"3\", \"4\"]\n",
        "print(\"Original list (strings):\", str_list)\n",
        "\n",
        "int_list = [int(item) for item in str_list]\n",
        "print(\"List after casting to integers:\", int_list)\n",
        "\n",
        "sum_of_elements = sum(int_list)\n",
        "print(\"Sum of elements:\", sum_of_elements)\n"
      ],
      "metadata": {
        "colab": {
          "base_uri": "https://localhost:8080/"
        },
        "id": "E7uw5lbTEI9T",
        "outputId": "3c49d734-0037-499e-826b-cfeeaab0ce5f"
      },
      "execution_count": 28,
      "outputs": [
        {
          "output_type": "stream",
          "name": "stdout",
          "text": [
            "Original list (strings): ['1', '2', '3', '4']\n",
            "List after casting to integers: [1, 2, 3, 4]\n",
            "Sum of elements: 10\n"
          ]
        }
      ]
    },
    {
      "cell_type": "code",
      "source": [
        "# 11.  Write a program that checks if a number is positive, negative, or zero.\n",
        "num = int(input(\"Enter the number: \"))\n",
        "if num%2==0 and num != 0:\n",
        "  print(\"Number is Even\")\n",
        "elif num==0:\n",
        "  print(\"Number is Zero\")\n",
        "else:\n",
        "  print(\"Number is Odd\")\n",
        "\n"
      ],
      "metadata": {
        "colab": {
          "base_uri": "https://localhost:8080/"
        },
        "id": "7gYQLPzLGhfy",
        "outputId": "7bd3de03-a6e2-4fb1-cc3b-a893875c3c4a"
      },
      "execution_count": 36,
      "outputs": [
        {
          "output_type": "stream",
          "name": "stdout",
          "text": [
            "Enter the number: 0\n",
            "Number is Zero\n"
          ]
        }
      ]
    },
    {
      "cell_type": "code",
      "source": [
        "# 12.  Write a for loop to print numbers from 1 to 10\n",
        "for i in range(1,11):\n",
        "  print(i)"
      ],
      "metadata": {
        "colab": {
          "base_uri": "https://localhost:8080/"
        },
        "id": "aGQ_KXQmKPt4",
        "outputId": "d3c8f760-a5c8-496b-fc7a-332028cbb2dd"
      },
      "execution_count": 37,
      "outputs": [
        {
          "output_type": "stream",
          "name": "stdout",
          "text": [
            "1\n",
            "2\n",
            "3\n",
            "4\n",
            "5\n",
            "6\n",
            "7\n",
            "8\n",
            "9\n",
            "10\n"
          ]
        }
      ]
    },
    {
      "cell_type": "code",
      "source": [
        "# 13.  Write a Python program to find the sum of all even numbers between 1 and 50.\n",
        "total =0\n",
        "for sum in range(0,51,2):\n",
        "  total += sum\n",
        "print(f\"sum of all even numbers between 1 and 50 is {total}\")\n"
      ],
      "metadata": {
        "colab": {
          "base_uri": "https://localhost:8080/"
        },
        "id": "RsXaXaHdMkDp",
        "outputId": "a328a9e9-752f-4f6c-b998-baa36626d048"
      },
      "execution_count": 42,
      "outputs": [
        {
          "output_type": "stream",
          "name": "stdout",
          "text": [
            "sum of all even numbers between 1 and 50 is 650\n"
          ]
        }
      ]
    },
    {
      "cell_type": "code",
      "source": [
        "# 14.  Write a program to reverse a string using a while loop.\n",
        "text = \"loop\"\n",
        "reversed_text = \"\"\n",
        "i = len(text) - 1\n",
        "\n",
        "while i >= 0:\n",
        "    reversed_text += text[i]\n",
        "    i -= 1\n",
        "\n",
        "print(\"Reversed string:\", reversed_text)\n",
        "\n"
      ],
      "metadata": {
        "colab": {
          "base_uri": "https://localhost:8080/"
        },
        "id": "D_ASY8sLM2xQ",
        "outputId": "ccf1c80d-d790-495b-fca4-03997133aa81"
      },
      "execution_count": 44,
      "outputs": [
        {
          "output_type": "stream",
          "name": "stdout",
          "text": [
            "Reversed string: pool\n"
          ]
        }
      ]
    },
    {
      "cell_type": "code",
      "source": [
        "# 15. Write a Python program to calculate the factorial of a number provided by the user using a while loop.\n",
        "\n",
        "num = int(input(\"Enter a number: \"))\n",
        "\n",
        "fact = 1\n",
        "i = 1\n",
        "\n",
        "while i <= num:\n",
        "    fact *= i\n",
        "    i += 1\n",
        "\n",
        "print(\"Factorial of\", num, \"is:\", fact)"
      ],
      "metadata": {
        "colab": {
          "base_uri": "https://localhost:8080/"
        },
        "id": "4MfYRpIqM8BG",
        "outputId": "d8139edb-a7b4-4700-83d3-434a3224b41d"
      },
      "execution_count": 45,
      "outputs": [
        {
          "output_type": "stream",
          "name": "stdout",
          "text": [
            "Enter a number: 5\n",
            "Factorial of 5 is: 120\n"
          ]
        }
      ]
    }
  ]
}
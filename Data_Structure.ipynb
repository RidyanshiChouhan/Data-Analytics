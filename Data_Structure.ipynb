{
  "nbformat": 4,
  "nbformat_minor": 0,
  "metadata": {
    "colab": {
      "provenance": []
    },
    "kernelspec": {
      "name": "python3",
      "display_name": "Python 3"
    },
    "language_info": {
      "name": "python"
    }
  },
  "cells": [
    {
      "cell_type": "markdown",
      "source": [
        "1.What are data structures, and why are they important?\n",
        "  - Data structures are methods of organizing and storing data so it can be used efficiently. Examples include lists, stacks, queues, trees, and dictionaries.\n",
        "  - **Why are They Important**\n",
        "  1. Efficiency : The right structure makes programs faster and reduces memory use.\n",
        "  2. Problem Solving : Many real-world problems depend on efficient data structures.\n",
        "  3. Maintainability :  Organized data makes code easier to manage.\n",
        "  4. Career Relevance : They are a core topic in technical interviews at top companies."
      ],
      "metadata": {
        "id": "YvfQtGlXAYnt"
      }
    },
    {
      "cell_type": "markdown",
      "source": [
        "2.Explain the difference between mutable and immutable data types with examples?\n",
        "  - Mutable vs Immutable Data Types in Python\n",
        "  1. **Mutable Data Types**\n",
        "     - Can be changed after creation (values, elements, or structure).\n",
        "     - Modifications happen in place without creating a new object.\n",
        "     - Examples:\n",
        "     - ```\n",
        "       # List (mutable)\n",
        "       a = [1, 2, 3]\n",
        "       a[0] = 10\n",
        "       print(a)  # Output: [10, 2, 3]\n",
        "       ```\n",
        "     - Here, the list a is modified directly.\n",
        "     - Other mutable types: list, dict, set, bytearray.\n",
        "\n",
        "  2. **Immutable Data Types**\n",
        "    - Cannot be changed after creation.\n",
        "     - Any “modification” creates a new object in memory.\n",
        "     - Examples:\n",
        "     - ```\n",
        "       # String (immutable)\n",
        "       s = \"hello\"\n",
        "       s = s.replace(\"h\", \"H\")\n",
        "       print(s)  # Output: \"Hello\"\n",
        "       ```\n",
        "     - Here, a new string \"Hello\" is created; the original \"hello\" is untouched.\n",
        "     - Other immutable types: int, float, str, tuple, frozenset, bytes.  \n",
        "\n",
        "     \n",
        "\n",
        "\n",
        "\n"
      ],
      "metadata": {
        "id": "n7Po79oCB32S"
      }
    },
    {
      "cell_type": "markdown",
      "source": [
        "3.What are the main differences between lists and tuples in Python?\n",
        "  - List: Mutable, slower due to dynamic resizing, uses more memory.\n",
        "  - Tuple: Immutable, faster to access, uses less memory. Tuples are often used for fixed collections of items, while lists are suited for dynamic data."
      ],
      "metadata": {
        "id": "sBzj3_mTFfJV"
      }
    },
    {
      "cell_type": "markdown",
      "source": [
        "4.Describe how dictionaries store data.\n",
        "  - Dictionaries use hash tables where a key is hashed into an index pointing to its value. This provides average O(1) time for lookups, insertions, and deletions. Collisions are managed using open addressing or chaining internally."
      ],
      "metadata": {
        "id": "rfki39FMJYHa"
      }
    },
    {
      "cell_type": "markdown",
      "source": [
        "5.Why might you use a set instead of a list in Python?\n",
        "  - Sets store only unique elements and offer faster membership checks. Searching in sets is average O(1), compared to O(n) in lists. They are useful when working with large collections that require deduplication."
      ],
      "metadata": {
        "id": "R1ZXPxFsJhbC"
      }
    },
    {
      "cell_type": "markdown",
      "source": [
        "6.What is a string in Python, and how is it different from a list?\n",
        "  - A string is an immutable sequence of characters. A list is a mutable sequence that can contain elements of any type. Strings cannot be changed in place, whereas lists can."
      ],
      "metadata": {
        "id": "XqrLb504J0IH"
      }
    },
    {
      "cell_type": "markdown",
      "source": [
        "7.How do tuples ensure data integrity in Python?\n",
        "  - Tuples are immutable, preventing accidental modification. This ensures reliability when storing fixed data like coordinates, configuration values, or records. Their immutability provides consistency across a program."
      ],
      "metadata": {
        "id": "g6t0WhFtJ5rl"
      }
    },
    {
      "cell_type": "markdown",
      "source": [
        "8.What is a hash table, and how does it relate to dictionaries in Python?\n",
        "  - A hash table maps keys to values using hash functions to compute storage indices. Dictionaries in Python are implemented using hash tables, allowing constant-time average lookups and efficient storage."
      ],
      "metadata": {
        "id": "VPV0vLpKJ-jz"
      }
    },
    {
      "cell_type": "markdown",
      "source": [
        "9.Can lists contain different data types in Python?\n",
        "  - Yes, lists can hold heterogeneous data, such as [1, \"hello\", 3.5]. This flexibility makes them versatile. However, homogeneous lists are generally better for performance and clarity."
      ],
      "metadata": {
        "id": "BttBIWTgKI5b"
      }
    },
    {
      "cell_type": "markdown",
      "source": [
        "10.Explain why strings are immutable in Python.\n",
        "   - Strings are immutable for memory efficiency, security, and hashability. They enable safe reuse in multiple places in memory and allow strings to be stored in sets and used as dictionary keys."
      ],
      "metadata": {
        "id": "GdBXCgXeKMSC"
      }
    },
    {
      "cell_type": "markdown",
      "source": [
        "11.What advantages do dictionaries offer over lists for certain tasks?\n",
        "   - Dictionaries provide faster lookups using keys, while lists rely on index-based or sequential searches. They allow direct key-value mapping, avoiding duplicate keys and simplifying data organization."
      ],
      "metadata": {
        "id": "oXonF01bKOdF"
      }
    },
    {
      "cell_type": "markdown",
      "source": [
        "12.Describe a scenario where using a tuple would be preferable over a list.\n",
        "   - Tuples are preferable when storing fixed data that should not change, such as RGB color values (255, 0, 0) or database keys. They are also lighter in memory compared to lists."
      ],
      "metadata": {
        "id": "BgrTTJY8KT5R"
      }
    },
    {
      "cell_type": "markdown",
      "source": [
        "13.How do sets handle duplicate values in Python?\n",
        "   - Sets automatically remove duplicate values. When a duplicate is added, it is ignored, ensuring all elements remain unique. This makes sets efficient for deduplication and mathematical operations."
      ],
      "metadata": {
        "id": "PjQOoSCCKXxj"
      }
    },
    {
      "cell_type": "markdown",
      "source": [
        "14.How does the “in” keyword work differently for lists and dictionaries?\n",
        "   - List: Checks whether a value exists in the list.\n",
        "   - Dictionary: Checks whether a key exists in the dictionary.\n",
        "   - To check for values in a dictionary, in dict.values() must be used."
      ],
      "metadata": {
        "id": "Z7YYTUfdKaGL"
      }
    },
    {
      "cell_type": "markdown",
      "source": [
        "15.Can you modify the elements of a tuple? Explain why or why not.\n",
        "   - No, tuples are immutable and cannot be changed once created. However, if a tuple contains a mutable object (like a list), that object itself can still be modified."
      ],
      "metadata": {
        "id": "WmKsLym-KdFu"
      }
    },
    {
      "cell_type": "markdown",
      "source": [
        "16.What is a nested dictionary, and give an example of its use case?\n",
        "   - A nested dictionary is a dictionary inside another dictionary.\n",
        "   - Example:\n",
        "     - students = {\"101\": {\"name\": \"Alex\", \"marks\": 90}}.\n",
        "    - It is useful for representing hierarchical or structured data like JSON responses."
      ],
      "metadata": {
        "id": "h4pXSwX8Kf-u"
      }
    },
    {
      "cell_type": "markdown",
      "source": [
        "17.Describe the time complexity of accessing elements in a dictionary.\n",
        "   - Average case: O(1) due to hashing. Worst case: O(n) if hash collisions occur. Python’s optimized hash function minimizes collisions, keeping access very efficient."
      ],
      "metadata": {
        "id": "V4J4NMckKjnj"
      }
    },
    {
      "cell_type": "markdown",
      "source": [
        "18.In what situations are lists preferred over dictionaries?\n",
        "   - Lists are preferred when order matters, when index-based access is required, and when working with simple sequences of data. They are also better suited for iterative processing."
      ],
      "metadata": {
        "id": "aKKomYgqKmcG"
      }
    },
    {
      "cell_type": "markdown",
      "source": [
        "19.Why are dictionaries considered unordered, and how does that affect data retrieval?\n",
        "   - Dictionaries do not rely on element order; values are accessed by keys. From Python 3.7 onwards, insertion order is preserved, but retrieval remains key-based rather than index-based."
      ],
      "metadata": {
        "id": "JClmUnvPKpPD"
      }
    },
    {
      "cell_type": "markdown",
      "source": [
        "20.Explain the difference between a list and a dictionary in terms of data retrieval.\n",
        "   - List: Data is retrieved by numeric index (e.g., list[0]).\n",
        "   - Dictionary: Data is retrieved by key (e.g., dict[\"name\"]). Dictionaries are better for labeled data, while lists are suited for ordered collections."
      ],
      "metadata": {
        "id": "qXiQizxnKtyM"
      }
    },
    {
      "cell_type": "code",
      "source": [
        "#Practicals Questions\n",
        "#1. Write a code to create a string with your name and print it.\n",
        "string = \"Ridyanshi Chouhan\"\n",
        "print(string)"
      ],
      "metadata": {
        "colab": {
          "base_uri": "https://localhost:8080/"
        },
        "id": "Tjcb8GwzWFHc",
        "outputId": "c497e1bf-dbe1-46ec-af36-d4fc75773453"
      },
      "execution_count": 1,
      "outputs": [
        {
          "output_type": "stream",
          "name": "stdout",
          "text": [
            "Ridyanshi Chouhan\n"
          ]
        }
      ]
    },
    {
      "cell_type": "code",
      "source": [
        "#2. Write a code to find the length of the string \"Hello World\".\n",
        "string = \"Ridyanshi Chouhan\"\n",
        "print(len(string))"
      ],
      "metadata": {
        "colab": {
          "base_uri": "https://localhost:8080/"
        },
        "id": "b77P7tqeLJ66",
        "outputId": "0652784e-b65f-44db-c9df-032fd93e84b4"
      },
      "execution_count": 2,
      "outputs": [
        {
          "output_type": "stream",
          "name": "stdout",
          "text": [
            "17\n"
          ]
        }
      ]
    },
    {
      "cell_type": "code",
      "source": [
        "#3.  Write a code to slice the first 3 characters from the string \"Python Programming\".\n",
        "string = \"Python Programming\"\n",
        "string[0:3]"
      ],
      "metadata": {
        "colab": {
          "base_uri": "https://localhost:8080/",
          "height": 36
        },
        "id": "w8Yyal40LmOp",
        "outputId": "6676d6a4-47e5-400f-bfcd-492c39f35269"
      },
      "execution_count": 3,
      "outputs": [
        {
          "output_type": "execute_result",
          "data": {
            "text/plain": [
              "'Pyt'"
            ],
            "application/vnd.google.colaboratory.intrinsic+json": {
              "type": "string"
            }
          },
          "metadata": {},
          "execution_count": 3
        }
      ]
    },
    {
      "cell_type": "code",
      "source": [
        "#4. Write a code to convert the string \"hello\" to uppercase.\n",
        "string = \"hello\"\n",
        "string.upper()"
      ],
      "metadata": {
        "colab": {
          "base_uri": "https://localhost:8080/",
          "height": 36
        },
        "id": "sU-fqaDMMIqv",
        "outputId": "5d5b709e-a077-4a68-b6f2-a947b3c34985"
      },
      "execution_count": 7,
      "outputs": [
        {
          "output_type": "execute_result",
          "data": {
            "text/plain": [
              "'HELLO'"
            ],
            "application/vnd.google.colaboratory.intrinsic+json": {
              "type": "string"
            }
          },
          "metadata": {},
          "execution_count": 7
        }
      ]
    },
    {
      "cell_type": "code",
      "source": [
        "#5. Write a code to replace the word \"apple\" with \"orange\" in the string \"I like apple\".\n",
        "string = \"I like apple\"\n",
        "string.replace(\"apple\",\"orange\")\n"
      ],
      "metadata": {
        "colab": {
          "base_uri": "https://localhost:8080/",
          "height": 36
        },
        "id": "BYyEAYchOBMz",
        "outputId": "a946bd8e-db2b-455f-d3ea-e49c732b29a1"
      },
      "execution_count": 9,
      "outputs": [
        {
          "output_type": "execute_result",
          "data": {
            "text/plain": [
              "'I like orange'"
            ],
            "application/vnd.google.colaboratory.intrinsic+json": {
              "type": "string"
            }
          },
          "metadata": {},
          "execution_count": 9
        }
      ]
    },
    {
      "cell_type": "code",
      "source": [
        "#6. Write a code to create a list with numbers 1 to 5 and print it.\n",
        "mylist = [1,2,3,4,5]\n",
        "mylist"
      ],
      "metadata": {
        "colab": {
          "base_uri": "https://localhost:8080/"
        },
        "id": "e1zcMr40SUth",
        "outputId": "495715ae-1e2c-4583-ee93-e1c2cc2c7a89"
      },
      "execution_count": 10,
      "outputs": [
        {
          "output_type": "execute_result",
          "data": {
            "text/plain": [
              "[1, 2, 3, 4, 5]"
            ]
          },
          "metadata": {},
          "execution_count": 10
        }
      ]
    },
    {
      "cell_type": "code",
      "source": [
        "#7. Write a code to append the number 10 to the list [1, 2, 3, 4].\n",
        "mylist = [1,2,3,4]\n",
        "mylist.append(10)\n",
        "mylist"
      ],
      "metadata": {
        "colab": {
          "base_uri": "https://localhost:8080/"
        },
        "id": "qX_aDePtYHAp",
        "outputId": "aabcce73-24ad-48ea-af01-d7a5cb9d6b48"
      },
      "execution_count": 13,
      "outputs": [
        {
          "output_type": "execute_result",
          "data": {
            "text/plain": [
              "[1, 2, 3, 4, 10]"
            ]
          },
          "metadata": {},
          "execution_count": 13
        }
      ]
    },
    {
      "cell_type": "code",
      "source": [
        "#8. Write a code to remove the number 3 from the list [1, 2, 3, 4, 5].\n",
        "mylist = [1,2,3,4,5]\n",
        "mylist.remove(3)\n",
        "mylist"
      ],
      "metadata": {
        "colab": {
          "base_uri": "https://localhost:8080/"
        },
        "id": "lHtuqj8TYWTC",
        "outputId": "19caff58-6996-4381-912e-29932fbb075a"
      },
      "execution_count": 14,
      "outputs": [
        {
          "output_type": "execute_result",
          "data": {
            "text/plain": [
              "[1, 2, 4, 5]"
            ]
          },
          "metadata": {},
          "execution_count": 14
        }
      ]
    },
    {
      "cell_type": "code",
      "source": [
        "#9. Write a code to access the second element in the list ['a', 'b', 'c', 'd'].\n",
        "mylist = ['a', 'b', 'c', 'd']\n",
        "mylist[1]\n"
      ],
      "metadata": {
        "colab": {
          "base_uri": "https://localhost:8080/",
          "height": 36
        },
        "id": "MtFwgi1fYuSz",
        "outputId": "f2e048a0-c310-4e5a-ff36-cf4f2691e23c"
      },
      "execution_count": 18,
      "outputs": [
        {
          "output_type": "execute_result",
          "data": {
            "text/plain": [
              "'b'"
            ],
            "application/vnd.google.colaboratory.intrinsic+json": {
              "type": "string"
            }
          },
          "metadata": {},
          "execution_count": 18
        }
      ]
    },
    {
      "cell_type": "code",
      "source": [
        "#10. Write a code to reverse the list [10, 20, 30, 40, 50].\n",
        "mylist = [10, 20, 30, 40, 50]\n",
        "revlist = mylist[::-1]\n",
        "revlist"
      ],
      "metadata": {
        "colab": {
          "base_uri": "https://localhost:8080/"
        },
        "id": "UHtNKCWVZAAX",
        "outputId": "198a7ca4-aae0-4b2d-b915-16fd54706063"
      },
      "execution_count": 24,
      "outputs": [
        {
          "output_type": "execute_result",
          "data": {
            "text/plain": [
              "[50, 40, 30, 20, 10]"
            ]
          },
          "metadata": {},
          "execution_count": 24
        }
      ]
    },
    {
      "cell_type": "code",
      "source": [
        "#11. Write a code to create a tuple with the elements 100, 200, 300 and print it.\n",
        "mytuple = (100,200,300)\n",
        "mytuple"
      ],
      "metadata": {
        "colab": {
          "base_uri": "https://localhost:8080/"
        },
        "id": "vlDVUv7nheAO",
        "outputId": "0442ce2e-80ef-468f-8f77-cdf8183020ff"
      },
      "execution_count": 26,
      "outputs": [
        {
          "output_type": "execute_result",
          "data": {
            "text/plain": [
              "(100, 200, 300)"
            ]
          },
          "metadata": {},
          "execution_count": 26
        }
      ]
    },
    {
      "cell_type": "code",
      "source": [
        "#12. Write a code to access the second-to-last element of the tuple ('red', 'green', 'blue', 'yellow').\n",
        "mytuple = ('red', 'green', 'blue', 'yellow')\n",
        "mytuple[-2]\n"
      ],
      "metadata": {
        "colab": {
          "base_uri": "https://localhost:8080/",
          "height": 36
        },
        "id": "oMANA-P6h7Tm",
        "outputId": "eab0be81-abef-4c42-9892-235d58bf1d31"
      },
      "execution_count": 27,
      "outputs": [
        {
          "output_type": "execute_result",
          "data": {
            "text/plain": [
              "'blue'"
            ],
            "application/vnd.google.colaboratory.intrinsic+json": {
              "type": "string"
            }
          },
          "metadata": {},
          "execution_count": 27
        }
      ]
    },
    {
      "cell_type": "code",
      "source": [
        "#13. Write a code to find the minimum number in the tuple (10, 20, 5, 15).\n",
        "mytuple = (10, 20, 5, 15)\n",
        "min(mytuple)"
      ],
      "metadata": {
        "colab": {
          "base_uri": "https://localhost:8080/"
        },
        "id": "kTlf5NuGifCj",
        "outputId": "4e581b7a-c82e-4e50-c54d-8119f4da76a4"
      },
      "execution_count": 30,
      "outputs": [
        {
          "output_type": "execute_result",
          "data": {
            "text/plain": [
              "5"
            ]
          },
          "metadata": {},
          "execution_count": 30
        }
      ]
    },
    {
      "cell_type": "code",
      "source": [
        "#14. Write a code to find the index of the element \"cat\" in the tuple ('dog', 'cat', 'rabbit').\n",
        "mytuple = ('dog', 'cat', 'rabbit')\n",
        "mytuple.index(\"cat\")"
      ],
      "metadata": {
        "colab": {
          "base_uri": "https://localhost:8080/"
        },
        "id": "iWM4SGB-jGmd",
        "outputId": "ec1efa15-2250-4f6b-cf72-5ea2aea74f13"
      },
      "execution_count": 31,
      "outputs": [
        {
          "output_type": "execute_result",
          "data": {
            "text/plain": [
              "1"
            ]
          },
          "metadata": {},
          "execution_count": 31
        }
      ]
    },
    {
      "cell_type": "code",
      "source": [
        "#15. Write a code to create a tuple containing three different fruits and check if \"kiwi\" is in it.\n",
        "fruit=(\"apple\",\"kiwi\",\"orange\")\n",
        "if \"kiwi\" in fruit:\n",
        "  print('yes, kiwi in furits')\n",
        "else:\n",
        "  print('no, kiwi not in furits')"
      ],
      "metadata": {
        "colab": {
          "base_uri": "https://localhost:8080/"
        },
        "id": "8HG4qEmcjZqq",
        "outputId": "397b3b31-0e04-4972-d684-d4747b2c4540"
      },
      "execution_count": 32,
      "outputs": [
        {
          "output_type": "stream",
          "name": "stdout",
          "text": [
            "yes, kiwi in furits\n"
          ]
        }
      ]
    },
    {
      "cell_type": "code",
      "source": [
        "#16. Write a code to create a set with the elements 'a', 'b', 'c' and print it.\n",
        "myset = {'a','b','c'}\n",
        "myset"
      ],
      "metadata": {
        "colab": {
          "base_uri": "https://localhost:8080/"
        },
        "id": "SW62zROnk00J",
        "outputId": "148a8ac6-5ae3-45fe-ad1f-92262fdd2d5e"
      },
      "execution_count": 33,
      "outputs": [
        {
          "output_type": "execute_result",
          "data": {
            "text/plain": [
              "{'a', 'b', 'c'}"
            ]
          },
          "metadata": {},
          "execution_count": 33
        }
      ]
    },
    {
      "cell_type": "code",
      "source": [
        "#17. Write a code to clear all elements from the set {1, 2, 3, 4, 5}.\n",
        "myset = {1, 2, 3, 4, 5}\n",
        "myset.clear()\n",
        "myset\n"
      ],
      "metadata": {
        "colab": {
          "base_uri": "https://localhost:8080/"
        },
        "id": "fdEkSnKBlMe0",
        "outputId": "adc0748f-5e44-4b28-cfac-9b71cee095ac"
      },
      "execution_count": 36,
      "outputs": [
        {
          "output_type": "execute_result",
          "data": {
            "text/plain": [
              "set()"
            ]
          },
          "metadata": {},
          "execution_count": 36
        }
      ]
    },
    {
      "cell_type": "code",
      "source": [
        "#18. Write a code to remove the element 4 from the set {1, 2, 3, 4}.\n",
        "myset = {1, 2, 3, 4}\n",
        "myset.remove(4)\n",
        "myset"
      ],
      "metadata": {
        "colab": {
          "base_uri": "https://localhost:8080/"
        },
        "id": "tvajJ1FIleeA",
        "outputId": "80da5e02-b1cc-4f44-c611-624ba87a10eb"
      },
      "execution_count": 39,
      "outputs": [
        {
          "output_type": "execute_result",
          "data": {
            "text/plain": [
              "{1, 2, 3}"
            ]
          },
          "metadata": {},
          "execution_count": 39
        }
      ]
    },
    {
      "cell_type": "code",
      "source": [
        "#19.  Write a code to find the union of two sets {1, 2, 3} and {3, 4, 5}.\n",
        "a= {1,2,3}\n",
        "b= {3,4,5}\n",
        "a | b"
      ],
      "metadata": {
        "colab": {
          "base_uri": "https://localhost:8080/"
        },
        "id": "iqz0hvhFmLP4",
        "outputId": "caed8ba8-c66f-4476-8f7f-2ddd22699dd9"
      },
      "execution_count": 41,
      "outputs": [
        {
          "output_type": "execute_result",
          "data": {
            "text/plain": [
              "{1, 2, 3, 4, 5}"
            ]
          },
          "metadata": {},
          "execution_count": 41
        }
      ]
    },
    {
      "cell_type": "code",
      "source": [
        "#20. Write a code to find the intersection of two sets {1, 2, 3} and {2, 3, 4}.\n",
        "a ={1,2,3}\n",
        "b ={2,3,4}\n",
        "a & b\n"
      ],
      "metadata": {
        "colab": {
          "base_uri": "https://localhost:8080/"
        },
        "id": "qJZKOyaenSyd",
        "outputId": "7fddf586-a17f-4657-c270-b021ec74727b"
      },
      "execution_count": 42,
      "outputs": [
        {
          "output_type": "execute_result",
          "data": {
            "text/plain": [
              "{2, 3}"
            ]
          },
          "metadata": {},
          "execution_count": 42
        }
      ]
    },
    {
      "cell_type": "code",
      "source": [
        "#21. Write a code to create a dictionary with the keys \"name\", \"age\", and \"city\", and print it.\n",
        "dictionary = {\"name\":\"Ram\", \"age\": 21, \"city\":\"Indore\"}\n",
        "dictionary"
      ],
      "metadata": {
        "colab": {
          "base_uri": "https://localhost:8080/"
        },
        "id": "oDBE_caFnjtl",
        "outputId": "44617c58-6af3-4e8a-8f6d-f76534ad756a"
      },
      "execution_count": 43,
      "outputs": [
        {
          "output_type": "execute_result",
          "data": {
            "text/plain": [
              "{'name': 'Ram', 'age': 21, 'city': 'Indore'}"
            ]
          },
          "metadata": {},
          "execution_count": 43
        }
      ]
    },
    {
      "cell_type": "code",
      "source": [
        "#22.  Write a code to add a new key-value pair \"country\": \"USA\" to the dictionary {'name': 'John', 'age': 25}.\n",
        "dictionary = {'name': 'John', 'age': 25}\n",
        "dictionary[\"country\"]=\"USA\"\n",
        "dictionary"
      ],
      "metadata": {
        "colab": {
          "base_uri": "https://localhost:8080/"
        },
        "id": "9Aaj6xWZow_O",
        "outputId": "42fd1e85-26ef-422e-8aba-4f6a74e3c1de"
      },
      "execution_count": 44,
      "outputs": [
        {
          "output_type": "execute_result",
          "data": {
            "text/plain": [
              "{'name': 'John', 'age': 25, 'country': 'USA'}"
            ]
          },
          "metadata": {},
          "execution_count": 44
        }
      ]
    },
    {
      "cell_type": "code",
      "source": [
        "#23. Write a code to access the value associated with the key \"name\" in the dictionary {'name': 'Alice', 'age': 30}.\n",
        "dictionary = {'name': 'Alice', 'age': 30}\n",
        "dictionary[\"name\"]"
      ],
      "metadata": {
        "colab": {
          "base_uri": "https://localhost:8080/",
          "height": 36
        },
        "id": "5R0kqsgVqQTA",
        "outputId": "8ac8ac1c-8d97-44d9-acd7-21a471908606"
      },
      "execution_count": 45,
      "outputs": [
        {
          "output_type": "execute_result",
          "data": {
            "text/plain": [
              "'Alice'"
            ],
            "application/vnd.google.colaboratory.intrinsic+json": {
              "type": "string"
            }
          },
          "metadata": {},
          "execution_count": 45
        }
      ]
    },
    {
      "cell_type": "code",
      "source": [
        "#24. Write a code to remove the key \"age\" from the dictionary {'name': 'Bob', 'age': 22, 'city': 'New York'}.\n",
        "dictionary = {'name': 'Bob', 'age': 22, 'city': 'New York'}\n",
        "dictionary.pop('age')\n",
        "dictionary"
      ],
      "metadata": {
        "colab": {
          "base_uri": "https://localhost:8080/"
        },
        "id": "CgLF5PQKvoDp",
        "outputId": "7d2b9db3-e626-42ef-c8bc-03fe53542db0"
      },
      "execution_count": 49,
      "outputs": [
        {
          "output_type": "execute_result",
          "data": {
            "text/plain": [
              "{'name': 'Bob', 'city': 'New York'}"
            ]
          },
          "metadata": {},
          "execution_count": 49
        }
      ]
    },
    {
      "cell_type": "code",
      "source": [
        "#25. Write a code to check if the key \"city\" exists in the dictionary {'name': 'Alice', 'city': 'Paris'}.\n",
        "dictionary = {'name': 'Alice', 'city': 'Paris'}\n",
        "if \"city\" in dictionary:\n",
        "  print(\"city exists in dictionary\")\n",
        "else:\n",
        "  print(\"Not exists\")"
      ],
      "metadata": {
        "colab": {
          "base_uri": "https://localhost:8080/"
        },
        "id": "-03ZSnTlwiFP",
        "outputId": "d2f02385-202b-4297-c385-8f243b9fdf82"
      },
      "execution_count": 50,
      "outputs": [
        {
          "output_type": "stream",
          "name": "stdout",
          "text": [
            "city exists in dictionary\n"
          ]
        }
      ]
    },
    {
      "cell_type": "code",
      "source": [
        "#26. Write a code to create a list, a tuple, and a dictionary, and print them all.\n",
        "dictionary = {\"list\": ['This','is','list'], \"tuple\":('This', 'is', 'Tuple')}\n",
        "print(dictionary)\n",
        "print(dictionary[\"list\"])\n",
        "print(dictionary[\"tuple\"])"
      ],
      "metadata": {
        "colab": {
          "base_uri": "https://localhost:8080/"
        },
        "id": "6h7JhuYuyGxV",
        "outputId": "ae14d35c-a9b1-433a-b34b-895b56175026"
      },
      "execution_count": 54,
      "outputs": [
        {
          "output_type": "stream",
          "name": "stdout",
          "text": [
            "{'list': ['This', 'is', 'list'], 'tuple': ('This', 'is', 'Tuple')}\n",
            "['This', 'is', 'list']\n",
            "('This', 'is', 'Tuple')\n"
          ]
        }
      ]
    },
    {
      "cell_type": "code",
      "source": [
        "#27. Write a code to create a list of 5 random numbers between 1 and 100, sort it in ascending order, and print the result.(replaced)\n",
        "import random\n",
        "num =[random.randint(1,100) for _ in range(5)]\n",
        "num.sort()\n",
        "num\n"
      ],
      "metadata": {
        "colab": {
          "base_uri": "https://localhost:8080/"
        },
        "id": "8J0yS6evz_Az",
        "outputId": "ba3e2139-5bf6-4df5-8f8f-e40b0e56db28"
      },
      "execution_count": 76,
      "outputs": [
        {
          "output_type": "execute_result",
          "data": {
            "text/plain": [
              "[53, 58, 59, 83, 98]"
            ]
          },
          "metadata": {},
          "execution_count": 76
        }
      ]
    },
    {
      "cell_type": "code",
      "source": [
        "#28. Write a code to create a list with strings and print the element at the third index.\n",
        "text = \"python\"\n",
        "char_list = list(text)\n",
        "print(char_list[3])"
      ],
      "metadata": {
        "colab": {
          "base_uri": "https://localhost:8080/"
        },
        "id": "n9WKTV_8NGLk",
        "outputId": "44a697bf-ef2c-4c08-a7f6-949cb5941e61"
      },
      "execution_count": 78,
      "outputs": [
        {
          "output_type": "stream",
          "name": "stdout",
          "text": [
            "h\n"
          ]
        }
      ]
    },
    {
      "cell_type": "code",
      "source": [
        "#29. Write a code to combine two dictionaries into one and print the result.\n",
        "d1 = {\"name\":\"Ram\",\"contact\":'123456789'}\n",
        "d2 = {\"address\":\"indore\"}\n",
        "d3= {**d1,**d2}\n",
        "#OR  d3 = d1|d2\n",
        "print(d3)"
      ],
      "metadata": {
        "colab": {
          "base_uri": "https://localhost:8080/"
        },
        "id": "YOOKAWYgOHGT",
        "outputId": "4444a828-e04e-4f6a-beb1-b5a6c5fbbc42"
      },
      "execution_count": 84,
      "outputs": [
        {
          "output_type": "stream",
          "name": "stdout",
          "text": [
            "{'name': 'Ram', 'contact': '123456789', 'address': 'indore'}\n"
          ]
        }
      ]
    },
    {
      "cell_type": "code",
      "source": [
        "#30. Write a code to convert a list of strings into a set.\n",
        "fruits = [\"apple\", \"banana\", \"cherry\", \"mango\", \"grape\"]\n",
        "my_set = set(fruits)\n",
        "type(my_set)"
      ],
      "metadata": {
        "colab": {
          "base_uri": "https://localhost:8080/"
        },
        "id": "cbpu_XxFTPj3",
        "outputId": "f6c26e45-dffc-4861-f731-53186b95e6c3"
      },
      "execution_count": 85,
      "outputs": [
        {
          "output_type": "execute_result",
          "data": {
            "text/plain": [
              "set"
            ]
          },
          "metadata": {},
          "execution_count": 85
        }
      ]
    }
  ]
}
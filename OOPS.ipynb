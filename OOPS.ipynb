{
  "nbformat": 4,
  "nbformat_minor": 0,
  "metadata": {
    "colab": {
      "provenance": []
    },
    "kernelspec": {
      "name": "python3",
      "display_name": "Python 3"
    },
    "language_info": {
      "name": "python"
    }
  },
  "cells": [
    {
      "cell_type": "markdown",
      "source": [
        "1.What is Object-Oriented Programming (OOP)?\n",
        "  - OOP is a programming paradigm based on the concept of objects that contain data (attributes) and methods (functions). It promotes reusability, modularity, and abstraction.\n",
        "\n",
        "2.What is a class in OOP?\n",
        "  - A class is a blueprint for creating objects. It defines attributes (variables) and methods (functions) that describe the behavior of the objects.\n",
        "\n",
        "3.What is an object in OOP?\n",
        "  - An object is an instance of a class. It represents a real-world entity with state (data) and behavior (methods).\n",
        "\n",
        "4.What is the difference between abstraction and encapsulation?\n",
        "  - Abstraction: Hides implementation details and shows only essential features.\n",
        "  - Encapsulation: Bundles data and methods into a single unit and restricts direct access using access modifiers.\n",
        "\n",
        "5.What are dunder methods in Python?\n",
        " - Dunder (double underscore) methods are special methods in Python that start and end with __. Example: __init__, __str__, __eq__. They allow customization of object behavior.\n",
        "\n",
        "6.Explain the concept of inheritance in OOP.\n",
        "  - Inheritance allows a class (child/derived) to acquire properties and behaviors of another class (parent/base), enabling code reuse and extensibility.\n",
        "\n",
        "7.What is polymorphism in OOP?\n",
        "  - Polymorphism means the same method name or operator can have different implementations depending on the object. Example: method overriding, operator overloading.\n",
        "\n",
        "8.How is encapsulation achieved in Python?\n",
        "  - Encapsulation is achieved using access specifiers:\n",
        "    - Public: accessible everywhere.\n",
        "    - Protected: _variable (suggested private).\n",
        "    - Private: __variable (name mangling).\n",
        "\n",
        "\n",
        "9.What is a constructor in Python?\n",
        "  - A constructor is a special method __init__() automatically called when an object is created. It initializes the object’s attributes.\n",
        "\n",
        "10.What are class and static methods in Python?\n",
        "   - Class method: Declared using @classmethod, takes cls as argument, works with class variables.\n",
        "   - Static method: Declared using @staticmethod, does not take self/cls, used for utility functions.\n",
        "\n",
        "\n",
        "11.What is method overloading in Python?\n",
        "   - Python does not support traditional method overloading. It can be achieved by using default arguments or *args to allow multiple behaviors in the same method.\n",
        "\n",
        "12.What is method overriding in Python?\n",
        "   - When a child class provides a specific implementation of a method that already exists in the parent class, it is called method overriding.\n",
        "\n",
        "13.What is a property decorator in Python?\n",
        "   - @property is used to define getters, setters, and deleters in a Pythonic way, allowing controlled access to attributes.\n",
        "\n",
        "14.Why is polymorphism important in OOP?\n",
        "   - It improves code flexibility and reusability by allowing objects of different classes to be treated through a common interface.\n",
        "\n",
        "15.What is an abstract class in Python?\n",
        "   - An abstract class is a class that cannot be instantiated directly and contains at least one abstract method (defined using @abstractmethod). It is defined in the abc module.\n",
        "\n",
        "16.What are the advantages of OOP?\n",
        "   - Code reusability (via inheritance)\n",
        "   - Data security (encapsulation)\n",
        "   - Flexibility and maintainability\n",
        "   - Real-world modeling\n",
        "   - Polymorphism for multiple behaviors\n",
        "\n",
        "17.What is the difference between a class variable and an instance variable?\n",
        "   - Class variable: Shared by all objects of the class.\n",
        "   - Instance variable: Unique to each object.\n",
        "\n",
        "18.What is multiple inheritance in Python?\n",
        "   - Multiple inheritance allows a class to inherit from more than one parent class.\n",
        "\n",
        "19.Explain the purpose of __str__ and __repr__ methods in Python.\n",
        "   - __str__: Returns a readable string representation (used with print()).\n",
        "   - __repr__: Returns an unambiguous string for developers/debugging.\n",
        "\n",
        "\n",
        "20.What is the significance of the super() function in Python?\n",
        "   - super() is used to call methods of a parent class, often inside constructors, to ensure proper initialization in inheritance.\n",
        "\n",
        "21.What is the significance of the __del__ method in Python?\n",
        "   - __del__ is a destructor method called when an object is about to be destroyed, used for cleanup operations.\n",
        "\n",
        "22.What is the difference between @staticmethod and @classmethod in Python?\n",
        "   - @staticmethod: Does not take self/cls. Used for utility functions.\n",
        "   - @classmethod: Takes cls as parameter, modifies class-level attributes.\n",
        "\n",
        "23.How does polymorphism work in Python with inheritance?\n",
        "   - In inheritance, polymorphism is achieved through method overriding. A child class can provide its own version of a method, and the appropriate version is called based on the object type.\n",
        "\n",
        "24.What is method chaining in Python OOP?\n",
        "   - Method chaining is a technique where multiple methods are called sequentially on the same object in a single statement. Each method returns the object itself (self) so that the next method can be called.\n",
        "   - Example:\n",
        "```\n",
        "class Student:\n",
        "    def __init__(self, name):\n",
        "        self.name = name\n",
        "    \n",
        "    def display(self):\n",
        "        print(\"Name:\", self.name)\n",
        "        return self  # returning self enables chaining\n",
        "    \n",
        "    def greet(self):\n",
        "        print(\"Hello,\", self.name)\n",
        "        return self\n",
        "        \n",
        "s = Student(\"Riya\")\n",
        "s.display().greet()\n",
        "```\n",
        "25.What is the purpose of the __call__ method in Python?\n",
        "   - The __call__ method allows an object of a class to be called like a function. If a class defines __call__, its instances behave like functions.\n",
        "   - Example:\n",
        "```\n",
        "class Adder:\n",
        "    def __init__(self, n):\n",
        "        self.n = n\n",
        "    \n",
        "    def __call__(self, x):\n",
        "        return self.n + x\n",
        "\n",
        "add5 = Adder(5)\n",
        "print(add5(10))  \n",
        "```\n",
        "\n",
        "\n",
        "\n",
        "\n"
      ],
      "metadata": {
        "id": "vFIxuOjnmyS-"
      }
    },
    {
      "cell_type": "code",
      "source": [
        "#Practical Question\n",
        "#1. Create a parent class Animal with a method speak() that prints a generic message. Create a child class Dog that overrides the speak() method to print \"Bark!\".\n",
        "class Animal:\n",
        "    def speak(self):\n",
        "        print(\"Generic animal sound\")\n",
        "\n",
        "class Dog(Animal):\n",
        "    def speak(self):\n",
        "        print(\"Bark!\")\n",
        "\n",
        "d = Dog()\n",
        "d.speak()"
      ],
      "metadata": {
        "colab": {
          "base_uri": "https://localhost:8080/"
        },
        "id": "_GLzPsrapTql",
        "outputId": "04ee322d-0e4a-477a-f327-07122bcf0e98"
      },
      "execution_count": 2,
      "outputs": [
        {
          "output_type": "stream",
          "name": "stdout",
          "text": [
            "Bark!\n"
          ]
        }
      ]
    },
    {
      "cell_type": "code",
      "source": [
        "#2.  Write a program to create an abstract class Shape with a method area(). Derive classes Circle and Rectangle from it and implement the area() method in both.\n",
        "from abc import ABC, abstractmethod\n",
        "import math\n",
        "\n",
        "class Shape(ABC):\n",
        "    @abstractmethod\n",
        "    def area(self):\n",
        "        pass\n",
        "\n",
        "class Circle(Shape):\n",
        "   def __init__(self, r):\n",
        "        self.r = r\n",
        "   def area(self):\n",
        "        print(f\"Area of cirlce is {math.pi * self.r * self.r}\")\n",
        "\n",
        "class Rectangle(Shape):\n",
        "   def __init__(self, l, w):\n",
        "        self.l = l\n",
        "        self.w = w\n",
        "   def area(self):\n",
        "        print(f\"Area of Rectangle is {self.l * self.w}\")\n",
        "\n",
        "Circle(5).area()\n",
        "Rectangle(5,6).area()"
      ],
      "metadata": {
        "colab": {
          "base_uri": "https://localhost:8080/"
        },
        "id": "4m5TayMRWQ-3",
        "outputId": "858b278a-1f2a-40a1-e88a-e0399eb66030"
      },
      "execution_count": 16,
      "outputs": [
        {
          "output_type": "stream",
          "name": "stdout",
          "text": [
            "Area of cirlce is 78.53981633974483\n",
            "Area of Rectangle is 30\n"
          ]
        }
      ]
    },
    {
      "cell_type": "code",
      "source": [
        "#3. Implement a multi-level inheritance scenario where a class Vehicle has an attribute type. Derive a class Car and further derive a class ElectricCar that adds a battery attribute.\n",
        "class Vehicle:\n",
        "    def __init__(self, type):\n",
        "        self.type = type\n",
        "\n",
        "class Car(Vehicle):\n",
        "   def __init__(self, type, model):\n",
        "        super().__init__(type)\n",
        "        self.model = model\n",
        "\n",
        "class ElectricCar(Car):\n",
        "   def __init__(self, type, model, battery):\n",
        "        super().__init__(type, model)\n",
        "        self.battery = battery\n",
        "\n",
        "Rishi = ElectricCar(\"Electric SUV\", \"Tesla Model X\", \"100 kWh Lithium-ion battery\")\n",
        "print(f\" Type = {Rishi.type} , Model = {Rishi.model }, Battery = {Rishi.battery}\" )\n"
      ],
      "metadata": {
        "colab": {
          "base_uri": "https://localhost:8080/"
        },
        "id": "4-wYUsiqg3sR",
        "outputId": "42a0896f-6b37-4d23-cf19-cf5c8ae30c3b"
      },
      "execution_count": 20,
      "outputs": [
        {
          "output_type": "stream",
          "name": "stdout",
          "text": [
            " Type = Electric SUV , Model = Tesla Model X, Battery = 100 kWh Lithium-ion battery\n"
          ]
        }
      ]
    },
    {
      "cell_type": "code",
      "source": [
        "#4. Demonstrate polymorphism by creating a base class Bird with a method fly(). Create two derived classes Sparrow and Penguin that override the fly() method.\n",
        "class Bird:\n",
        "    def fly(self):\n",
        "        print(\"Birds can fly\")\n",
        "\n",
        "class Sparrow(Bird):\n",
        "    def fly(self):\n",
        "        print(\"Sparrows can fly\")\n",
        "\n",
        "class Penguin(Bird):\n",
        "    def fly(self):\n",
        "        print(\"Penguin Can't fly\")\n",
        "\n",
        "bird = [Bird(), Sparrow(), Penguin()]\n",
        "\n",
        "for b in bird:\n",
        "    b.fly()\n",
        "\n"
      ],
      "metadata": {
        "colab": {
          "base_uri": "https://localhost:8080/"
        },
        "id": "pQRdedkrlujt",
        "outputId": "7b70fc3f-6d5f-4700-b285-8a773bcbb34d"
      },
      "execution_count": 1,
      "outputs": [
        {
          "output_type": "stream",
          "name": "stdout",
          "text": [
            "Birds can fly\n",
            "Sparrows can fly\n",
            "Penguin Can't fly\n"
          ]
        }
      ]
    },
    {
      "cell_type": "code",
      "source": [
        "#5 Write a program to demonstrate encapsulation by creating a class BankAccount with private attributes balance and methods to deposit, withdraw, and check balance.\n",
        "class BankAccount:\n",
        "\n",
        "  def __init__(self, balance):\n",
        "    self.__balance = balance\n",
        "\n",
        "  def deposit(self, amount):\n",
        "    self.__balance += amount\n",
        "\n",
        "  def withdraw(self, amount):\n",
        "    if amount <= self.__balance:\n",
        "      self.__balance -= amount\n",
        "    else:\n",
        "      print(\"Insufficient balance\")\n",
        "\n",
        "  def get_balance(self):\n",
        "        return self.__balance\n",
        "\n",
        "Ram = BankAccount(5000)\n",
        "Ram.deposit(500)\n",
        "Ram.withdraw(100)\n",
        "print(Ram.get_balance())\n",
        "\n",
        "\n",
        ""
      ],
      "metadata": {
        "colab": {
          "base_uri": "https://localhost:8080/"
        },
        "id": "UEuPnCGzfP93",
        "outputId": "4b50ea28-fd74-4a47-90bc-054e747186b8"
      },
      "execution_count": 2,
      "outputs": [
        {
          "output_type": "stream",
          "name": "stdout",
          "text": [
            "5400\n"
          ]
        }
      ]
    },
    {
      "cell_type": "code",
      "source": [
        "#6 Demonstrate runtime polymorphism using a method play() in a base class Instrument. Derive classes Guitar and Piano that implement their own version of play().\n",
        "class Instrument:\n",
        "    def play(self):\n",
        "        print(\"Instrument is playing\")\n",
        "\n",
        "class Guitar(Instrument):\n",
        "    def play(self):\n",
        "        print(\"Guitar is playing\")\n",
        "\n",
        "class Piano(Instrument):\n",
        "    def play(self):\n",
        "        print(\"Piano is playing\")\n",
        "\n",
        "def perform(Instrument):\n",
        "  Instrument.play()\n",
        "\n",
        "g = Guitar()\n",
        "p = Piano()\n",
        "perform(g)\n",
        "perform(p)\n"
      ],
      "metadata": {
        "colab": {
          "base_uri": "https://localhost:8080/"
        },
        "id": "BWDJlVb2vlCN",
        "outputId": "2d481c04-6908-4b58-f752-706ec6cc0637"
      },
      "execution_count": 3,
      "outputs": [
        {
          "output_type": "stream",
          "name": "stdout",
          "text": [
            "Guitar is playing\n",
            "Piano is playing\n"
          ]
        }
      ]
    },
    {
      "cell_type": "code",
      "source": [
        "#7  Create a class MathOperations with a class method add_numbers() to add two numbers and a static method subtract_numbers() to subtract two numbers.\n",
        "class MathOperations:\n",
        "    @classmethod\n",
        "    def add_numbers(cls, a, b):\n",
        "        return cls.__name__,a + b\n",
        "\n",
        "    @staticmethod\n",
        "    def subtract_numbers(a, b):\n",
        "        return a - b\n",
        "\n",
        "print(MathOperations.add_numbers(8,9))\n",
        "print(MathOperations.subtract_numbers(7,6))"
      ],
      "metadata": {
        "colab": {
          "base_uri": "https://localhost:8080/"
        },
        "id": "__Q2efYgCixA",
        "outputId": "39c41a36-e47b-4df5-9c30-95df2dac390b"
      },
      "execution_count": 5,
      "outputs": [
        {
          "output_type": "stream",
          "name": "stdout",
          "text": [
            "('MathOperations', 17)\n",
            "1\n"
          ]
        }
      ]
    },
    {
      "cell_type": "code",
      "source": [
        "#8 Implement a class Person with a class method to count the total number of persons created.\n",
        "class Person:\n",
        "    count = 0\n",
        "\n",
        "    def __init__(self, name):\n",
        "        self.name = name\n",
        "        Person.count += 1\n",
        "\n",
        "    @classmethod\n",
        "    def total_persons(cls):\n",
        "        return cls.count\n",
        "\n",
        "p1 = Person(\"Riya\")\n",
        "p2 = Person(\"Aman\")\n",
        "p3 = Person(\"Priya\")\n",
        "\n",
        "print(\"Total persons created:\", Person.total_persons())\n"
      ],
      "metadata": {
        "colab": {
          "base_uri": "https://localhost:8080/"
        },
        "id": "0tv8bbP1HEZU",
        "outputId": "56f09274-e81c-49ef-ab99-fb777f648f60"
      },
      "execution_count": 7,
      "outputs": [
        {
          "output_type": "stream",
          "name": "stdout",
          "text": [
            "Total persons created: 3\n"
          ]
        }
      ]
    },
    {
      "cell_type": "code",
      "source": [
        "#9. Write a class Fraction with attributes numerator and denominator. Override the str method to display the fraction as \"numerator/denominator\".\n",
        "class Fraction:\n",
        "  def __init__(self, numerator, denominator):\n",
        "    self.numerator = numerator\n",
        "    self.denominator = denominator\n",
        "\n",
        "  def __str__(self):\n",
        "    return f\"{self.numerator} / {self.denominator}\"\n",
        "\n",
        "f = Fraction(5,6)\n",
        "print(f)\n",
        "print(str(f))"
      ],
      "metadata": {
        "colab": {
          "base_uri": "https://localhost:8080/"
        },
        "id": "forpEMMIIFHI",
        "outputId": "395317d2-ff49-4313-e285-696823e8737b"
      },
      "execution_count": 19,
      "outputs": [
        {
          "output_type": "stream",
          "name": "stdout",
          "text": [
            "5 / 6\n",
            "5 / 6\n"
          ]
        }
      ]
    },
    {
      "cell_type": "code",
      "source": [
        "#10 Demonstrate operator overloading by creating a class Vector and overriding the add method to add two vectors.\n",
        "class Vector:\n",
        "    def __init__(self, x, y):\n",
        "        self.x = x\n",
        "        self.y = y\n",
        "\n",
        "    def __add__(self, other):\n",
        "        return Vector(self.x + other.x, self.y + other.y)\n",
        "\n",
        "v1 = Vector(9,1)\n",
        "v2 = Vector(5,2)\n",
        "v3 = v1 + v2\n",
        "print(v3.x, v3.y)\n",
        ""
      ],
      "metadata": {
        "colab": {
          "base_uri": "https://localhost:8080/"
        },
        "id": "x5utxc_FMIvc",
        "outputId": "408b91bd-26d1-4a2b-c86c-48c408150c08"
      },
      "execution_count": 27,
      "outputs": [
        {
          "output_type": "stream",
          "name": "stdout",
          "text": [
            "14 3\n"
          ]
        }
      ]
    },
    {
      "cell_type": "code",
      "source": [
        "#11 Create a class Person with attributes name and age. Add a method greet() that prints \"Hello, my name is {name} and I am {age} years old.\"\n",
        "class Person:\n",
        "    def __init__(self, name, age):\n",
        "        self.name = name\n",
        "        self.age = age\n",
        "\n",
        "    def greet(self):\n",
        "        print(f\"Hello, my name is {self.name} and I am {self.age} years old.\")\n",
        "\n",
        "p1 = Person(\"Riya\", 21)\n",
        "p2 = Person(\"Aman\", 25)\n",
        "\n",
        "p1.greet()\n",
        "p2.greet()"
      ],
      "metadata": {
        "colab": {
          "base_uri": "https://localhost:8080/"
        },
        "id": "PUlBeA-FOZwF",
        "outputId": "08009b0c-b43f-43d2-fdc3-f61ca9c02e83"
      },
      "execution_count": 29,
      "outputs": [
        {
          "output_type": "stream",
          "name": "stdout",
          "text": [
            "Hello, my name is Riya and I am 21 years old.\n",
            "Hello, my name is Aman and I am 25 years old.\n"
          ]
        }
      ]
    },
    {
      "cell_type": "code",
      "source": [
        "#12 Implement a class Student with attributes name and grades. Create a method average_grade() to compute the average of the grades.\n",
        "class Student:\n",
        "    def __init__(self, name, grades):\n",
        "        self.name = name\n",
        "        self.grades = grades\n",
        "\n",
        "    def average_grade(self):\n",
        "        return sum(self.grades) / len(self.grades)\n",
        "\n",
        "s1 = Student(\"Riya\", [86,90,36])\n",
        "s2 = Student(\"Priya\",[90,69,54])\n",
        "\n",
        "print(f\"{s1.name}'s average grade: {s1.average_grade()}\")\n",
        "print(f\"{s2.name}'s average grade: {s2.average_grade()}\")"
      ],
      "metadata": {
        "colab": {
          "base_uri": "https://localhost:8080/"
        },
        "id": "bu0_XzZHRXTZ",
        "outputId": "f114bd49-0891-4f1c-97aa-f845fe4a24ae"
      },
      "execution_count": 35,
      "outputs": [
        {
          "output_type": "stream",
          "name": "stdout",
          "text": [
            "Riya's average grade: 70.66666666666667\n",
            "Priya's average grade: 71.0\n"
          ]
        }
      ]
    },
    {
      "cell_type": "code",
      "source": [
        "#13 Create a class Rectangle with methods set_dimensions() to set the dimensions and area() to calculate the area.\n",
        "class Rectangle:\n",
        "    def __init__(self):\n",
        "        self.length = 0\n",
        "        self.width = 0\n",
        "\n",
        "    def set_dimensions(self, length, width):\n",
        "        self.length = length\n",
        "        self.width = width\n",
        "\n",
        "    def area(self):\n",
        "        return self.length * self.width\n",
        "\n",
        "rect = Rectangle()\n",
        "rect.set_dimensions(5, 3)\n",
        "print(\"Area:\", rect.area())\n",
        "\n"
      ],
      "metadata": {
        "colab": {
          "base_uri": "https://localhost:8080/"
        },
        "id": "pOn4IYLUUst_",
        "outputId": "1d136022-8770-4199-db3c-80462558c81b"
      },
      "execution_count": 36,
      "outputs": [
        {
          "output_type": "stream",
          "name": "stdout",
          "text": [
            "Area: 15\n"
          ]
        }
      ]
    },
    {
      "cell_type": "code",
      "source": [
        "#14 Create a class Employee with a method calculate_salary() that computes the salary based on hours worked and hourly rate. Create a derived class Manager that adds a bonus to the salary\n",
        "class Employee:\n",
        "    def __init__(self, name, hours_worked, hourly_rate):\n",
        "        self.name = name\n",
        "        self.hours_worked = hours_worked\n",
        "        self.hourly_rate = hourly_rate\n",
        "\n",
        "    def calculate_salary(self):\n",
        "        return self.hours_worked * self.hourly_rate\n",
        "\n",
        "\n",
        "class Manager(Employee):\n",
        "    def __init__(self, name, hours_worked, hourly_rate, bonus):\n",
        "        super().__init__(name, hours_worked, hourly_rate)\n",
        "        self.bonus = bonus\n",
        "\n",
        "    def calculate_salary(self):\n",
        "        base_salary = super().calculate_salary()\n",
        "        return base_salary + self.bonus\n",
        "\n",
        "m = Manager(\"Rom\", 5, 100, 50)\n",
        "print(f\"Salary of {m.name} is {m.calculate_salary()}\")\n",
        "\n",
        "\n",
        ""
      ],
      "metadata": {
        "colab": {
          "base_uri": "https://localhost:8080/"
        },
        "id": "mpR7AR_2ZAyR",
        "outputId": "059ab3ac-5e42-4576-f2e8-1e8116841108"
      },
      "execution_count": 39,
      "outputs": [
        {
          "output_type": "stream",
          "name": "stdout",
          "text": [
            "Salary of Rom is 550\n"
          ]
        }
      ]
    },
    {
      "cell_type": "code",
      "source": [
        "#15. Create a class Product with attributes name, price, and quantity. Implement a method total_price() that calculates the total price of the product.\n",
        "class Product:\n",
        "    def __init__(self, name, price, quantity):\n",
        "        self.name = name\n",
        "        self.price = price\n",
        "        self.quantity = quantity\n",
        "\n",
        "    def total_price(self):\n",
        "        return self.price * self.quantity\n",
        "\n",
        "p = Product(\"Comb\", 10, 5)\n",
        "p.total_price()"
      ],
      "metadata": {
        "colab": {
          "base_uri": "https://localhost:8080/"
        },
        "id": "6nf50GjUgP2h",
        "outputId": "c46cd510-726b-4f7c-d445-71463749f47c"
      },
      "execution_count": 40,
      "outputs": [
        {
          "output_type": "execute_result",
          "data": {
            "text/plain": [
              "50"
            ]
          },
          "metadata": {},
          "execution_count": 40
        }
      ]
    },
    {
      "cell_type": "code",
      "source": [
        "#16 Create a class Animal with an abstract method sound(). Create two derived classes Cow and Sheep that implement the sound() method.\n",
        "from abc import ABC, abstractmethod\n",
        "\n",
        "class Animal(ABC):\n",
        "    @abstractmethod\n",
        "    def sound(self):\n",
        "        pass\n",
        "\n",
        "class Cow(Animal):\n",
        "    def sound(self):\n",
        "        return \"Maaaa\"\n",
        "\n",
        "class Sheep(Animal):\n",
        "    def sound(self):\n",
        "        return \"Baa\"\n",
        "\n",
        "c = Cow()\n",
        "s = Sheep()\n",
        "print(c.sound())\n",
        "print(s.sound())\n"
      ],
      "metadata": {
        "colab": {
          "base_uri": "https://localhost:8080/"
        },
        "id": "9KFG2MD_gPxf",
        "outputId": "3fdfaf7c-ad17-4643-84d3-55b18d4b24c2"
      },
      "execution_count": 41,
      "outputs": [
        {
          "output_type": "stream",
          "name": "stdout",
          "text": [
            "Maaaa\n",
            "Baa\n"
          ]
        }
      ]
    },
    {
      "cell_type": "code",
      "source": [
        "#17 Create a class Book with attributes title, author, and year_published. Add a method get_book_info() that returns a formatted string with the book's details.\n",
        "class Book:\n",
        "    def __init__(self, title, author, year_published):\n",
        "        self.title = title\n",
        "        self.author = author\n",
        "        self.year_published = year_published\n",
        "\n",
        "    def get_book_info(self):\n",
        "        return f\"Title: {self.title}\\nAuthor: {self.author}\\nYear Published: {self.year_published}\"\n",
        "\n",
        "book = Book(\"1984\", \"George Orwell\", 1949)\n",
        "print(book.get_book_info())\n"
      ],
      "metadata": {
        "colab": {
          "base_uri": "https://localhost:8080/"
        },
        "id": "KdA1ASVTjj8M",
        "outputId": "eecdf612-35dc-4817-88c7-e32a60fe71f2"
      },
      "execution_count": 42,
      "outputs": [
        {
          "output_type": "stream",
          "name": "stdout",
          "text": [
            "Title: 1984\n",
            "Author: George Orwell\n",
            "Year Published: 1949\n"
          ]
        }
      ]
    },
    {
      "cell_type": "code",
      "source": [
        "#18 Create a class House with attributes address and price. Create a derived class Mansion that adds an attribute number_of_rooms.\n",
        "class House:\n",
        "    def __init__(self, address, price):\n",
        "        self.address = address\n",
        "        self.price = price\n",
        "\n",
        "    def get_house_info(self):\n",
        "        return f\"Address: {self.address}\\nPrice: ${self.price}\"\n",
        "\n",
        "class Mansion(House):\n",
        "    def __init__(self, address, price, number_of_rooms):\n",
        "        super().__init__(address, price)\n",
        "        self.number_of_rooms = number_of_rooms\n",
        "\n",
        "    def get_mansion_info(self):\n",
        "        return f\"{self.get_house_info()}\\nNumber of Rooms: {self.number_of_rooms}\"\n",
        "\n",
        "mansion = Mansion(\"123 Beverly Hills\", 5000000, 10)\n",
        "print(mansion.get_mansion_info())\n",
        "\n"
      ],
      "metadata": {
        "colab": {
          "base_uri": "https://localhost:8080/"
        },
        "id": "c_GTQxZXj51I",
        "outputId": "acc7702a-09ec-4c62-cfa1-c1d7c8fa3f90"
      },
      "execution_count": 43,
      "outputs": [
        {
          "output_type": "stream",
          "name": "stdout",
          "text": [
            "Address: 123 Beverly Hills\n",
            "Price: $5000000\n",
            "Number of Rooms: 10\n"
          ]
        }
      ]
    }
  ]
}